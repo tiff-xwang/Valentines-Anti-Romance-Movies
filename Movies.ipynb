{
 "cells": [
  {
   "cell_type": "code",
   "execution_count": 95,
   "id": "f08757d5-3135-4ae8-bd31-7162ca65175d",
   "metadata": {},
   "outputs": [],
   "source": [
    "import requests\n",
    "import time\n",
    "import pandas as pd\n",
    "import re\n",
    "import os\n",
    "from bs4 import BeautifulSoup"
   ]
  },
  {
   "cell_type": "code",
   "execution_count": 2,
   "id": "377108e8-7382-411a-a297-9e2139acafbb",
   "metadata": {},
   "outputs": [],
   "source": [
    "%load_ext rpy2.ipython\n",
    "%load_ext autoreload\n",
    "%autoreload 2\n",
    "\n",
    "%matplotlib inline  \n",
    "from matplotlib import rcParams\n",
    "rcParams['figure.figsize'] = (16, 100)\n",
    "\n",
    "import warnings\n",
    "from rpy2.rinterface import RRuntimeWarning\n",
    "warnings.filterwarnings(\"ignore\") # Ignore all warnings\n",
    "# warnings.filterwarnings(\"ignore\", category=RRuntimeWarning) # Show some warnings\n",
    "\n",
    "from IPython.display import display, HTML"
   ]
  },
  {
   "cell_type": "code",
   "execution_count": 3,
   "id": "48db9f1a-11bd-42a1-b131-9b5c4388ab12",
   "metadata": {},
   "outputs": [
    {
     "data": {
      "application/javascript": [
       "// Disable auto-scrolling\n",
       "IPython.OutputArea.prototype._should_scroll = function(lines) {\n",
       "    return false;\n",
       "}\n"
      ],
      "text/plain": [
       "<IPython.core.display.Javascript object>"
      ]
     },
     "metadata": {},
     "output_type": "display_data"
    }
   ],
   "source": [
    "%%javascript\n",
    "// Disable auto-scrolling\n",
    "IPython.OutputArea.prototype._should_scroll = function(lines) {\n",
    "    return false;\n",
    "}"
   ]
  },
  {
   "cell_type": "code",
   "execution_count": 4,
   "id": "048a71ad-35d2-4838-ab3e-fcb7181610e8",
   "metadata": {},
   "outputs": [
    {
     "data": {
      "text/plain": [
       "Loading required package: ggplot2\n"
      ]
     },
     "metadata": {},
     "output_type": "display_data"
    }
   ],
   "source": [
    "%%R\n",
    "\n",
    "#install.packages(\"ggbeeswarm\")\n",
    "library(ggbeeswarm)"
   ]
  },
  {
   "cell_type": "code",
   "execution_count": 89,
   "id": "cb289f32-7207-4af5-a42e-f2916335f3c7",
   "metadata": {},
   "outputs": [
    {
     "name": "stdout",
     "output_type": "stream",
     "text": [
      "--- Please select a CRAN mirror for use in this session ---\n",
      "Secure CRAN mirrors \n",
      "\n",
      " 1: 0-Cloud [https]\n",
      " 2: Australia (Canberra) [https]\n",
      " 3: Australia (Melbourne 1) [https]\n",
      " 4: Australia (Melbourne 2) [https]\n",
      " 5: Austria (Wien 1) [https]\n",
      " 6: Belgium (Brussels) [https]\n",
      " 7: Brazil (PR) [https]\n",
      " 8: Brazil (SP 1) [https]\n",
      " 9: Brazil (SP 2) [https]\n",
      "10: Bulgaria [https]\n",
      "11: Canada (MB) [https]\n",
      "12: Canada (ON 1) [https]\n",
      "13: Canada (ON 2) [https]\n",
      "14: Chile (Santiago) [https]\n",
      "15: China (Beijing 2) [https]\n",
      "16: China (Beijing 3) [https]\n",
      "17: China (Hefei) [https]\n",
      "18: China (Hong Kong) [https]\n",
      "19: China (Jinan) [https]\n",
      "20: China (Lanzhou) [https]\n",
      "21: China (Nanjing) [https]\n",
      "22: China (Shanghai 2) [https]\n",
      "23: China (Shenzhen) [https]\n",
      "24: China (Wuhan) [https]\n",
      "25: Colombia (Cali) [https]\n",
      "26: Costa Rica [https]\n",
      "27: Cyprus [https]\n",
      "28: Czech Republic [https]\n",
      "29: Denmark [https]\n",
      "30: East Asia [https]\n",
      "31: Ecuador (Cuenca) [https]\n",
      "32: France (Lyon 1) [https]\n",
      "33: France (Lyon 2) [https]\n",
      "34: France (Paris 1) [https]\n",
      "35: Germany (Erlangen) [https]\n",
      "36: Germany (Göttingen) [https]\n",
      "37: Germany (Leipzig) [https]\n",
      "38: Germany (Münster) [https]\n",
      "39: Greece [https]\n",
      "40: Hungary [https]\n",
      "41: Iceland [https]\n",
      "42: India (Bengaluru) [https]\n",
      "43: India (Bhubaneswar) [https]\n",
      "44: Indonesia (Banda Aceh) [https]\n",
      "45: Iran (Mashhad) [https]\n",
      "46: Italy (Milano) [https]\n",
      "47: Italy (Padua) [https]\n",
      "48: Japan (Yonezawa) [https]\n",
      "49: Korea (Gyeongsan-si) [https]\n",
      "50: Mexico (Mexico City) [https]\n",
      "51: Mexico (Texcoco) [https]\n",
      "52: Morocco [https]\n",
      "53: Netherlands (Dronten) [https]\n",
      "54: New Zealand [https]\n",
      "55: Norway [https]\n",
      "56: South Africa (Johannesburg) [https]\n",
      "57: Spain (A Coruña) [https]\n",
      "58: Spain (Madrid) [https]\n",
      "59: Sweden (Umeå) [https]\n",
      "60: Switzerland (Zurich 1) [https]\n",
      "61: Taiwan (Taipei) [https]\n",
      "62: Turkey (Denizli) [https]\n",
      "63: UK (Bristol) [https]\n",
      "64: UK (London 1) [https]\n",
      "65: USA (IA) [https]\n",
      "66: USA (MI) [https]\n",
      "67: USA (MO) [https]\n",
      "68: USA (OH) [https]\n",
      "69: USA (OR) [https]\n",
      "70: USA (PA 1) [https]\n",
      "71: USA (TN) [https]\n",
      "72: USA (UT) [https]\n",
      "73: United Arab Emirates [https]\n",
      "74: Uruguay [https]\n",
      "75: (other mirrors)\n",
      "\n"
     ]
    },
    {
     "name": "stdin",
     "output_type": "stream",
     "text": [
      "Selection:  66\n"
     ]
    },
    {
     "name": "stdout",
     "output_type": "stream",
     "text": [
      "\n",
      "The downloaded binary packages are in\n",
      "\t/var/folders/29/tm85f6r96dl6jl70q7g6h2rr0000gn/T//RtmpxHBTWl/downloaded_packages\n"
     ]
    },
    {
     "data": {
      "text/plain": [
       "also installing the dependencies ‘yulab.utils’, ‘gridGraphics’, ‘ggfun’, ‘ggplotify’, ‘magick’\n",
       "\n",
       "trying URL 'https://repo.miserver.it.umich.edu/cran/bin/macosx/big-sur-x86_64/contrib/4.4/yulab.utils_0.2.0.tgz'\n",
       "Content type 'application/octet-stream' length 118833 bytes (116 KB)\n",
       "==================================================\n",
       "downloaded 116 KB\n",
       "\n",
       "trying URL 'https://repo.miserver.it.umich.edu/cran/bin/macosx/big-sur-x86_64/contrib/4.4/gridGraphics_0.5-1.tgz'\n",
       "Content type 'application/octet-stream' length 248025 bytes (242 KB)\n",
       "==================================================\n",
       "downloaded 242 KB\n",
       "\n",
       "trying URL 'https://repo.miserver.it.umich.edu/cran/bin/macosx/big-sur-x86_64/contrib/4.4/ggfun_0.1.8.tgz'\n",
       "Content type 'application/octet-stream' length 222485 bytes (217 KB)\n",
       "==================================================\n",
       "downloaded 217 KB\n",
       "\n",
       "trying URL 'https://repo.miserver.it.umich.edu/cran/bin/macosx/big-sur-x86_64/contrib/4.4/ggplotify_0.1.2.tgz'\n",
       "Content type 'application/octet-stream' length 139379 bytes (136 KB)\n",
       "==================================================\n",
       "downloaded 136 KB\n",
       "\n",
       "trying URL 'https://repo.miserver.it.umich.edu/cran/bin/macosx/big-sur-x86_64/contrib/4.4/magick_2.8.5.tgz'\n",
       "Content type 'application/octet-stream' length 23985030 bytes (22.9 MB)\n",
       "==================================================\n",
       "downloaded 22.9 MB\n",
       "\n",
       "trying URL 'https://repo.miserver.it.umich.edu/cran/bin/macosx/big-sur-x86_64/contrib/4.4/ggimage_0.3.3.tgz'\n",
       "Content type 'application/octet-stream' length 155072 bytes (151 KB)\n",
       "==================================================\n",
       "downloaded 151 KB\n",
       "\n",
       "In addition: Warning message:\n",
       "In doTryCatch(return(expr), name, parentenv, handler) :\n",
       "  unable to load shared object '/Library/Frameworks/R.framework/Resources/modules//R_X11.so':\n",
       "  dlopen(/Library/Frameworks/R.framework/Resources/modules//R_X11.so, 0x0006): Library not loaded: /opt/X11/lib/libSM.6.dylib\n",
       "  Referenced from: <C6365313-5F01-3EA4-B926-337F8DDD9E19> /Library/Frameworks/R.framework/Versions/4.4-x86_64/Resources/modules/R_X11.so\n",
       "  Reason: tried: '/opt/X11/lib/libSM.6.dylib' (no such file), '/System/Volumes/Preboot/Cryptexes/OS/opt/X11/lib/libSM.6.dylib' (no such file), '/opt/X11/lib/libSM.6.dylib' (no such file), '/usr/local/lib/libSM.6.dylib' (no such file), '/usr/lib/libSM.6.dylib' (no such file, not in dyld cache)\n"
      ]
     },
     "metadata": {},
     "output_type": "display_data"
    }
   ],
   "source": [
    "%%R\n",
    "\n",
    "#install.packages(\"ggimage\")\n",
    "library(ggimage)"
   ]
  },
  {
   "cell_type": "code",
   "execution_count": 90,
   "id": "fdfd383d-3298-4bd4-aa25-70dc90c2c369",
   "metadata": {},
   "outputs": [],
   "source": [
    "%%R \n",
    "\n",
    "library(tidyverse)\n",
    "library(ggrepel)\n",
    "library(readxl)"
   ]
  },
  {
   "cell_type": "markdown",
   "id": "8f334522-a309-499a-8e34-f5aa534c3855",
   "metadata": {},
   "source": [
    "### ⚠️ The next three cells scrape Box Office Mojo and save the result to Excel. <br> <br> You can just run the fourth cell that reads in \"valentines_movies.xlsx\"."
   ]
  },
  {
   "cell_type": "code",
   "execution_count": 18,
   "id": "26888833-c4d4-41ae-a6cc-15e0a6f67f04",
   "metadata": {},
   "outputs": [],
   "source": [
    "valentines_movies = []\n",
    "headers = {\n",
    "    \"User-Agent\": \"Mozilla/5.0 (Windows NT 10.0; Win64; x64) AppleWebKit/537.36 (KHTML, like Gecko) Chrome/119.0.0.0 Safari/537.36\"\n",
    "}\n",
    "\n",
    "# Loop through each year from 2015 to 2025\n",
    "for year in range(2015, 2026):\n",
    "    url = f'https://www.boxofficemojo.com/month/february/{year}/?grossesOption=totalGrosses'\n",
    "    raw_html = requests.get(url, headers=headers)\n",
    "    soup_doc = BeautifulSoup(raw_html.content, \"html.parser\")\n",
    "    \n",
    "    # Find all movie rows (skip the first row because it's a header)\n",
    "    movies = soup_doc.find_all('tr')[1:]\n",
    "\n",
    "    # Loop through all the movie rows\n",
    "    for movie in movies:\n",
    "        try:\n",
    "            title = movie.find_all('a')[0].text  # Movie Title\n",
    "            release_date = movie.find_all('td')[10].text  # Release date\n",
    "            day = int(release_date.split()[1])  # Extract day part\n",
    "    \n",
    "            # Filter movies released between Feb 1 and Feb 14\n",
    "            if 1 <= day <= 14:\n",
    "                link = \"https://www.boxofficemojo.com\" + movie.find_all('a')[0]['href']\n",
    "                \n",
    "                #time.sleep(2)  # Wait 2 seconds between requests\n",
    "                \n",
    "                subpage_html = requests.get(link, headers=headers)\n",
    "                subpage_doc = BeautifulSoup(subpage_html.content, \"html.parser\")\n",
    "\n",
    "                # divs containing genre\n",
    "                genre_divs = subpage_doc.find_all('div', class_='a-section a-spacing-none')\n",
    "                clean_genre = \"Unknown\"  # Default if genre is not found\n",
    "                \n",
    "                # dynamically looking for genre info\n",
    "                for div in genre_divs:\n",
    "                    spans = div.find_all('span')\n",
    "                    if spans and \"Genres\" in spans[0].text:\n",
    "                        clean_genre = ' '.join(spans[1].text.split())\n",
    "                        break  # Stop looping once found\n",
    "                        \n",
    "                gross = subpage_doc.find_all(class_='money')[0].text\n",
    "                \n",
    "                logline = subpage_doc.find_all('p')[0].text\n",
    "                \n",
    "                valentines_movies.append([title, release_date, year, clean_genre, gross, logline])\n",
    "            \n",
    "        except (IndexError, AttributeError):\n",
    "            # Skip rows that don't have expected data\n",
    "            continue"
   ]
  },
  {
   "cell_type": "code",
   "execution_count": 19,
   "id": "4c069c77-e1bb-4d29-914e-d65524400a28",
   "metadata": {},
   "outputs": [
    {
     "data": {
      "text/html": [
       "<div>\n",
       "<style scoped>\n",
       "    .dataframe tbody tr th:only-of-type {\n",
       "        vertical-align: middle;\n",
       "    }\n",
       "\n",
       "    .dataframe tbody tr th {\n",
       "        vertical-align: top;\n",
       "    }\n",
       "\n",
       "    .dataframe thead th {\n",
       "        text-align: right;\n",
       "    }\n",
       "</style>\n",
       "<table border=\"1\" class=\"dataframe\">\n",
       "  <thead>\n",
       "    <tr style=\"text-align: right;\">\n",
       "      <th></th>\n",
       "      <th>Title</th>\n",
       "      <th>Release Date</th>\n",
       "      <th>Year</th>\n",
       "      <th>Genre</th>\n",
       "      <th>Gross</th>\n",
       "      <th>Logline</th>\n",
       "    </tr>\n",
       "  </thead>\n",
       "  <tbody>\n",
       "    <tr>\n",
       "      <th>0</th>\n",
       "      <td>Fifty Shades of Grey</td>\n",
       "      <td>Feb 13</td>\n",
       "      <td>2015</td>\n",
       "      <td>Drama Romance Thriller</td>\n",
       "      <td>$166,167,230</td>\n",
       "      <td>Literature student Anastasia Steele's life cha...</td>\n",
       "    </tr>\n",
       "    <tr>\n",
       "      <th>1</th>\n",
       "      <td>The SpongeBob Movie: Sponge Out of Water</td>\n",
       "      <td>Feb 6</td>\n",
       "      <td>2015</td>\n",
       "      <td>Adventure Animation Comedy Family Fantasy</td>\n",
       "      <td>$162,994,032</td>\n",
       "      <td>When a diabolical pirate above the sea steals ...</td>\n",
       "    </tr>\n",
       "    <tr>\n",
       "      <th>2</th>\n",
       "      <td>Kingsman: The Secret Service</td>\n",
       "      <td>Feb 13</td>\n",
       "      <td>2015</td>\n",
       "      <td>Action Adventure Comedy Thriller</td>\n",
       "      <td>$128,261,724</td>\n",
       "      <td>A spy organisation recruits a promising street...</td>\n",
       "    </tr>\n",
       "    <tr>\n",
       "      <th>3</th>\n",
       "      <td>Jupiter Ascending</td>\n",
       "      <td>Feb 6</td>\n",
       "      <td>2015</td>\n",
       "      <td>Action Adventure Sci-Fi</td>\n",
       "      <td>$47,387,723</td>\n",
       "      <td>A young woman discovers her destiny as an heir...</td>\n",
       "    </tr>\n",
       "    <tr>\n",
       "      <th>4</th>\n",
       "      <td>Seventh Son</td>\n",
       "      <td>Feb 6</td>\n",
       "      <td>2015</td>\n",
       "      <td>Action Adventure Fantasy</td>\n",
       "      <td>$17,223,265</td>\n",
       "      <td>When Mother Malkin, the queen of evil witches,...</td>\n",
       "    </tr>\n",
       "    <tr>\n",
       "      <th>...</th>\n",
       "      <td>...</td>\n",
       "      <td>...</td>\n",
       "      <td>...</td>\n",
       "      <td>...</td>\n",
       "      <td>...</td>\n",
       "      <td>...</td>\n",
       "    </tr>\n",
       "    <tr>\n",
       "      <th>251</th>\n",
       "      <td>A Woman Is a Woman</td>\n",
       "      <td>Feb 7</td>\n",
       "      <td>2025</td>\n",
       "      <td>Comedy Drama Romance</td>\n",
       "      <td>$58,771</td>\n",
       "      <td>A stripper who's desperate to become a mother ...</td>\n",
       "    </tr>\n",
       "    <tr>\n",
       "      <th>252</th>\n",
       "      <td>The Annihilation of Fish</td>\n",
       "      <td>Feb 14</td>\n",
       "      <td>2025</td>\n",
       "      <td>Romance</td>\n",
       "      <td>$36,774</td>\n",
       "      <td>After years of living alone, an eccentric blac...</td>\n",
       "    </tr>\n",
       "    <tr>\n",
       "      <th>253</th>\n",
       "      <td>I Love You Forever</td>\n",
       "      <td>Feb 7</td>\n",
       "      <td>2025</td>\n",
       "      <td>Comedy Drama</td>\n",
       "      <td>$12,989</td>\n",
       "      <td>A subversive romantic comedy gone wrong that f...</td>\n",
       "    </tr>\n",
       "    <tr>\n",
       "      <th>254</th>\n",
       "      <td>When I'm Ready</td>\n",
       "      <td>Feb 7</td>\n",
       "      <td>2025</td>\n",
       "      <td>Romance</td>\n",
       "      <td>$11,372</td>\n",
       "      <td>It's the end of the world. Seeking meaning and...</td>\n",
       "    </tr>\n",
       "    <tr>\n",
       "      <th>255</th>\n",
       "      <td>Rounding</td>\n",
       "      <td>Feb 14</td>\n",
       "      <td>2025</td>\n",
       "      <td>Drama Horror Mystery Thriller</td>\n",
       "      <td>$4,745</td>\n",
       "      <td>A driven young medical resident transfers to a...</td>\n",
       "    </tr>\n",
       "  </tbody>\n",
       "</table>\n",
       "<p>256 rows × 6 columns</p>\n",
       "</div>"
      ],
      "text/plain": [
       "                                        Title Release Date  Year  \\\n",
       "0                        Fifty Shades of Grey       Feb 13  2015   \n",
       "1    The SpongeBob Movie: Sponge Out of Water        Feb 6  2015   \n",
       "2                Kingsman: The Secret Service       Feb 13  2015   \n",
       "3                           Jupiter Ascending        Feb 6  2015   \n",
       "4                                 Seventh Son        Feb 6  2015   \n",
       "..                                        ...          ...   ...   \n",
       "251                        A Woman Is a Woman        Feb 7  2025   \n",
       "252                  The Annihilation of Fish       Feb 14  2025   \n",
       "253                        I Love You Forever        Feb 7  2025   \n",
       "254                            When I'm Ready        Feb 7  2025   \n",
       "255                                  Rounding       Feb 14  2025   \n",
       "\n",
       "                                         Genre         Gross  \\\n",
       "0                       Drama Romance Thriller  $166,167,230   \n",
       "1    Adventure Animation Comedy Family Fantasy  $162,994,032   \n",
       "2             Action Adventure Comedy Thriller  $128,261,724   \n",
       "3                      Action Adventure Sci-Fi   $47,387,723   \n",
       "4                     Action Adventure Fantasy   $17,223,265   \n",
       "..                                         ...           ...   \n",
       "251                       Comedy Drama Romance       $58,771   \n",
       "252                                    Romance       $36,774   \n",
       "253                               Comedy Drama       $12,989   \n",
       "254                                    Romance       $11,372   \n",
       "255              Drama Horror Mystery Thriller        $4,745   \n",
       "\n",
       "                                               Logline  \n",
       "0    Literature student Anastasia Steele's life cha...  \n",
       "1    When a diabolical pirate above the sea steals ...  \n",
       "2    A spy organisation recruits a promising street...  \n",
       "3    A young woman discovers her destiny as an heir...  \n",
       "4    When Mother Malkin, the queen of evil witches,...  \n",
       "..                                                 ...  \n",
       "251  A stripper who's desperate to become a mother ...  \n",
       "252  After years of living alone, an eccentric blac...  \n",
       "253  A subversive romantic comedy gone wrong that f...  \n",
       "254  It's the end of the world. Seeking meaning and...  \n",
       "255  A driven young medical resident transfers to a...  \n",
       "\n",
       "[256 rows x 6 columns]"
      ]
     },
     "execution_count": 19,
     "metadata": {},
     "output_type": "execute_result"
    }
   ],
   "source": [
    "# to dataframe\n",
    "df = pd.DataFrame(valentines_movies, columns=[\"Title\", \"Release Date\", \"Year\", \"Genre\", \"Gross\", \"Logline\"])\n",
    "df"
   ]
  },
  {
   "cell_type": "code",
   "execution_count": 20,
   "id": "f23dbdeb-70be-44cf-8456-fe146b7fbfd4",
   "metadata": {},
   "outputs": [],
   "source": [
    "# df.to_excel('valentines_movies.xlsx', index=False)"
   ]
  },
  {
   "cell_type": "markdown",
   "id": "69658c9c-fa59-40e7-baf9-f0ebf7a4aab2",
   "metadata": {},
   "source": [
    "## Start from here 🔽"
   ]
  },
  {
   "cell_type": "code",
   "execution_count": null,
   "id": "7196d3ca-f592-4e78-a0ed-bab0faf8c778",
   "metadata": {},
   "outputs": [],
   "source": [
    "# df = pd.read_excel('valentines_movies.xlsx')"
   ]
  },
  {
   "cell_type": "markdown",
   "id": "1b2f7ae4-f408-4347-80f1-065e7376161b",
   "metadata": {},
   "source": [
    "## Hand-curated (anti)romance movies ❤️🖤"
   ]
  },
  {
   "cell_type": "markdown",
   "id": "59f8de80-bdce-4948-ace1-3963b7b0619a",
   "metadata": {},
   "source": [
    "#### After scraping all the movies released in the U.S. betweeen February 1 and 14 from 2015 to 2025, I went into the spreadsheet to hand-curate movies that are actually romance-related and American-made (in English, first released in the U.S.). I also got rid of re-releases."
   ]
  },
  {
   "cell_type": "markdown",
   "id": "d4404c8e-b802-41ce-8071-7a86c3c0f4c6",
   "metadata": {},
   "source": [
    "#### `love_movies.xlsx` is my final list of 39 movies. I added a new column called 'Romance'. If a movie promotes a traditional sense of love and relationship, it's marked as 'pro'. Otherwise, it's marked as 'anti'."
   ]
  },
  {
   "cell_type": "code",
   "execution_count": 98,
   "id": "2cfcd36a-42c1-45a1-b4c9-5c28b1a99361",
   "metadata": {},
   "outputs": [],
   "source": [
    "select_df = pd.read_excel('love_movies.xlsx')"
   ]
  },
  {
   "cell_type": "code",
   "execution_count": 126,
   "id": "17cb3d86-f592-4f43-b2aa-a7f474b69231",
   "metadata": {},
   "outputs": [],
   "source": [
    "%%R -i select_df -o romance_plot -w 10 -h 5 --units in --res 100\n",
    "\n",
    "# Convert Romance column to a factor for better categorization\n",
    "select_df$Romance <- factor(select_df$Romance, levels = c(\"pro\", \"anti\"))\n",
    "\n",
    "# Create the beeswarm plot\n",
    "romance_plot <- ggplot(select_df, aes(x = as.factor(Year), y = runif(nrow(select_df), -1, 1), color = Romance, size = Romance)) +\n",
    "      geom_quasirandom(width = 0.4, alpha = 0.7) +  # Beeswarm effect with jitter\n",
    "      scale_color_manual(values = c(\"pro\" = \"red\", \"anti\" = \"black\")) +\n",
    "      scale_size_manual(values = c(\"pro\" = 3, \"anti\" = 7)) +\n",
    "      guides(color = \"none\", size = \"none\") +  # Remove the legends\n",
    "      theme_minimal() +\n",
    "      theme(\n",
    "        axis.title.y = element_blank(),\n",
    "        axis.text.y = element_blank(),\n",
    "        axis.ticks.y = element_blank(),\n",
    "        panel.grid.major.y = element_blank(),\n",
    "        panel.grid.minor.y = element_blank()\n",
    "      ) +\n",
    "      labs(x = \"Year\", color = \"Romance Category\",\n",
    "           title = \"Disillusioned Singles Take Over Hollywood\",\n",
    "           subtitle = \"The Number of Romance and Anti-Romance Movies from 2015 to 2025 during Valentine's Season\")\n",
    "\n",
    "romance_plot\n",
    "\n",
    "# Save the plot as an SVG file\n",
    "# ggsave(\"romance_plot.svg\", plot = romance_plot, width = 10, height = 5, units = \"in\", dpi = 300)"
   ]
  },
  {
   "cell_type": "code",
   "execution_count": 43,
   "id": "969655f1-426d-4499-a29e-dfaf84c35181",
   "metadata": {},
   "outputs": [],
   "source": [
    "# Format \"Gross\" column with a dollar sign and thousand separator\n",
    "# select_df['Gross'] = select_df['Gross'].apply(lambda x: f'${x:,}')"
   ]
  },
  {
   "cell_type": "code",
   "execution_count": 121,
   "id": "73dd1b88-f6d4-4062-ba29-9e7d42a1dd40",
   "metadata": {},
   "outputs": [
    {
     "data": {
      "image/png": "[encoded data removed]",
      "text/plain": [
       "<IPython.core.display.Image object>"
      ]
     },
     "metadata": {},
     "output_type": "display_data"
    }
   ],
   "source": [
    "%%R -i select_df -w 15 -h 8 --units in\n",
    "\n",
    "select_df$Year <- factor(select_df$Year)\n",
    "\n",
    "anti_romance_with_poster <- subset(select_df, Romance == \"anti\" & Poster != \"\")\n",
    "\n",
    "ggplot(select_df, aes(x=Year, y=Gross, color=Romance, size=Romance, label=Title)) +\n",
    "       geom_point(alpha=.4) +\n",
    "       scale_y_continuous(labels = scales::comma) +\n",
    "       scale_color_manual(values = c(\"pro\" = \"red\", \"anti\" = \"black\")) +\n",
    "       scale_size_manual(values = c(\"pro\" = 3, \"anti\" = 7)) +\n",
    "       theme_minimal() +\n",
    "       geom_text_repel(data = subset(select_df, Romance == \"anti\"), \n",
    "                       aes(label = Title),\n",
    "                       size = 5, max.overlaps = 10) +\n",
    "       # Add film posters only for anti-romance movies with valid local file paths\n",
    "       geom_image(data = anti_romance_with_poster, \n",
    "               aes(x = as.numeric(Year) + 0.2, image = Poster), \n",
    "               size = 0.05)\n"
   ]
  },
  {
   "cell_type": "code",
   "execution_count": 125,
   "id": "e5cdbf27-c7e5-4306-a64b-6ede40560828",
   "metadata": {},
   "outputs": [],
   "source": [
    "%%R -i select_df -w 15 -h 8 --units in\n",
    "\n",
    "select_df$Year <- factor(select_df$Year)\n",
    "\n",
    "money_plot <- ggplot(select_df, aes(x=Year, y=Gross, color=Romance, size=Romance, label=Title)) +\n",
    "       geom_point(alpha=.4) +\n",
    "       scale_y_continuous(labels = scales::comma) +\n",
    "       scale_color_manual(values = c(\"pro\" = \"red\", \"anti\" = \"black\")) +\n",
    "       scale_size_manual(values = c(\"pro\" = 3, \"anti\" = 7)) +\n",
    "       theme_minimal() +\n",
    "       geom_text_repel(data = subset(select_df, Romance == \"anti\"), \n",
    "                       aes(label = Title),\n",
    "                       size = 5, max.overlaps = 10)\n",
    "\n",
    "ggsave(\"money_plot.svg\", plot=money_plot, width = 15, height = 8)"
   ]
  },
  {
   "cell_type": "code",
   "execution_count": null,
   "id": "78ce851e-480b-4f66-aa97-1bea8a691c1d",
   "metadata": {},
   "outputs": [],
   "source": []
  }
 ],
 "metadata": {
  "kernelspec": {
   "display_name": "Python 3 (ipykernel)",
   "language": "python",
   "name": "python3"
  },
  "language_info": {
   "codemirror_mode": {
    "name": "ipython",
    "version": 3
   },
   "file_extension": ".py",
   "mimetype": "text/x-python",
   "name": "python",
   "nbconvert_exporter": "python",
   "pygments_lexer": "ipython3",
   "version": "3.12.7"
  }
 },
 "nbformat": 4,
 "nbformat_minor": 5
}
